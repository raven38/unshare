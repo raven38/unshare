{
 "cells": [
  {
   "cell_type": "code",
   "execution_count": 277,
   "metadata": {
    "collapsed": false
   },
   "outputs": [],
   "source": [
    "import numpy as np\n",
    "\n",
    "import chainer\n",
    "from chainer import functions as F\n",
    "from chainer import links as L\n",
    "from chainer import optimizers\n",
    "from chainer import cuda\n",
    "\n",
    "\n",
    "class Unsharing(object):\n",
    "    name = 'Unsharing'\n",
    "    def __init__(self, rate, source):\n",
    "        self.rate = rate\n",
    "        self.source = source\n",
    "\n",
    "    def __call__(self, opt):\n",
    "        for t_param, s_param in zip(opt.target.params(False), self.source.params(False)):\n",
    "            t_data, t_grad = t_param.data, t_param.grad\n",
    "            s_data = s_param.data\n",
    "            xp = cuda.get_array_module(t_data)\n",
    "            t_grad += self.rate * -1 * xp.absolute(t_data - s_data)\n",
    "\n",
    "\n",
    "class MLP(chainer.Chain):\n",
    "    def __init__(self):\n",
    "        super(MLP, self).__init__()\n",
    "        with self.init_scope():\n",
    "            self.l1 = L.Linear(1, 1, nobias=True)\n",
    "#            self.l2 = L.Linear(2, 1)\n",
    "\n",
    "    def __call__(self, x):\n",
    "        h = self.l1(x)\n",
    "#        h = self.l2(h)\n",
    "        return F.square(h)\n"
   ]
  },
  {
   "cell_type": "code",
   "execution_count": 325,
   "metadata": {
    "collapsed": true
   },
   "outputs": [],
   "source": [
    "x = np.asarray([[0], [1], [2], [3], [4]], dtype=np.float32)\n",
    "t = np.asarray([[0], [4], [16], [36], [64]], dtype=np.float32)"
   ]
  },
  {
   "cell_type": "code",
   "execution_count": 326,
   "metadata": {
    "collapsed": false
   },
   "outputs": [],
   "source": [
    "net1 = MLP()\n",
    "optimizer1 = optimizers.SGD(lr=0.001)\n",
    "optimizer1.setup(net)"
   ]
  },
  {
   "cell_type": "code",
   "execution_count": 344,
   "metadata": {
    "collapsed": false
   },
   "outputs": [
    {
     "name": "stdout",
     "output_type": "stream",
     "text": [
      "[[-2.3570375]]\n",
      "variable(171.33401)\n",
      "[[-2.3570375]]\n",
      "[[-684.7821]]\n"
     ]
    }
   ],
   "source": [
    "y = net1(x)\n",
    "print(net1.l1.W.data)\n",
    "loss = F.mean_squared_error(y, t)\n",
    "net1.cleargrads()\n",
    "loss.backward()\n",
    "optimizer1.update()\n",
    "print(loss)\n",
    "print(net1.l1.W.data)\n",
    "print(net.l1.W.grad)"
   ]
  },
  {
   "cell_type": "code",
   "execution_count": 320,
   "metadata": {
    "collapsed": false
   },
   "outputs": [
    {
     "name": "stdout",
     "output_type": "stream",
     "text": [
      "[[1.5770602]]\n"
     ]
    }
   ],
   "source": [
    "print(net.l1.W.data)"
   ]
  },
  {
   "cell_type": "code",
   "execution_count": 321,
   "metadata": {
    "collapsed": false
   },
   "outputs": [],
   "source": [
    "loss = F.mean_squared_error(y, t)\n",
    "net.cleargrads()\n",
    "loss.backward()\n",
    "optimizer.update()"
   ]
  },
  {
   "cell_type": "code",
   "execution_count": 322,
   "metadata": {
    "collapsed": false
   },
   "outputs": [
    {
     "name": "stdout",
     "output_type": "stream",
     "text": [
      "[[2.2527485]]\n"
     ]
    }
   ],
   "source": [
    "print(net.l1.W.data)"
   ]
  },
  {
   "cell_type": "code",
   "execution_count": 323,
   "metadata": {
    "collapsed": false
   },
   "outputs": [
    {
     "data": {
      "text/plain": [
       "variable(162.04768)"
      ]
     },
     "execution_count": 323,
     "metadata": {},
     "output_type": "execute_result"
    }
   ],
   "source": [
    "loss"
   ]
  },
  {
   "cell_type": "code",
   "execution_count": 324,
   "metadata": {
    "collapsed": false
   },
   "outputs": [
    {
     "name": "stdout",
     "output_type": "stream",
     "text": [
      "[[-675.6881]]\n"
     ]
    }
   ],
   "source": [
    "print(net.l1.W.grad)"
   ]
  },
  {
   "cell_type": "code",
   "execution_count": 109,
   "metadata": {
    "collapsed": true
   },
   "outputs": [],
   "source": [
    "net.l1.W.data = np.asarray([[-2]], dtype=np.float32)"
   ]
  },
  {
   "cell_type": "code",
   "execution_count": 452,
   "metadata": {
    "collapsed": false
   },
   "outputs": [],
   "source": [
    "net2 = MLP()\n",
    "optimizer2 = optimizers.SGD(lr=0.001)\n",
    "optimizer2.setup(net2)\n",
    "optimizer2.add_hook(Unsharing(rate=100, source=net))"
   ]
  },
  {
   "cell_type": "code",
   "execution_count": 456,
   "metadata": {
    "collapsed": false
   },
   "outputs": [
    {
     "name": "stdout",
     "output_type": "stream",
     "text": [
      "[[2.9904652]]\n",
      "[[-0.5846801]]\n",
      "[[3575.145]]\n"
     ]
    }
   ],
   "source": [
    "y = net2(x)\n",
    "print(net2.l1.W.data)\n",
    "loss = F.mean_squared_error(y, t)\n",
    "net2.cleargrads()\n",
    "loss.backward()\n",
    "optimizer2.update()\n",
    "print(net2.l1.W.data)\n",
    "print(net2.l1.W.grad)"
   ]
  },
  {
   "cell_type": "code",
   "execution_count": 395,
   "metadata": {
    "collapsed": false
   },
   "outputs": [
    {
     "data": {
      "text/plain": [
       "variable W([[-0.19406027]])"
      ]
     },
     "execution_count": 395,
     "metadata": {},
     "output_type": "execute_result"
    }
   ],
   "source": [
    "net2.l1.W"
   ]
  },
  {
   "cell_type": "code",
   "execution_count": null,
   "metadata": {
    "collapsed": true
   },
   "outputs": [],
   "source": []
  }
 ],
 "metadata": {
  "anaconda-cloud": {},
  "kernelspec": {
   "display_name": "Python [conda root]",
   "language": "python",
   "name": "conda-root-py"
  },
  "language_info": {
   "codemirror_mode": {
    "name": "ipython",
    "version": 3
   },
   "file_extension": ".py",
   "mimetype": "text/x-python",
   "name": "python",
   "nbconvert_exporter": "python",
   "pygments_lexer": "ipython3",
   "version": "3.5.2"
  }
 },
 "nbformat": 4,
 "nbformat_minor": 1
}
